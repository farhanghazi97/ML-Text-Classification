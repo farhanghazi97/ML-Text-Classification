{
 "cells": [
  {
   "cell_type": "code",
   "execution_count": 91,
   "metadata": {},
   "outputs": [],
   "source": [
    "import pandas as pd\n",
    "import matplotlib.pyplot as plt\n",
    "import pickle\n",
    "import seaborn as sns\n",
    "import re\n",
    "import numpy as np\n",
    "import warnings\n",
    "\n",
    "from sklearn.feature_extraction.text import TfidfVectorizer, CountVectorizer\n",
    "from sklearn.preprocessing import LabelEncoder\n",
    "from sklearn.metrics import classification_report, accuracy_score\n",
    "from xgboost import XGBClassifier\n",
    "from sklearn.linear_model import SGDClassifier\n",
    "from sklearn.feature_selection import SelectKBest\n",
    "from sklearn.feature_selection import chi2\n",
    "from sklearn.model_selection import StratifiedKFold\n",
    "from sklearn.feature_selection import RFECV\n",
    "from imblearn.over_sampling import RandomOverSampler\n",
    "from imblearn.under_sampling import RandomUnderSampler\n",
    "\n",
    "sns.set()\n",
    "# Code for hiding seaborn warnings\n",
    "warnings.filterwarnings(\"ignore\")"
   ]
  },
  {
   "cell_type": "code",
   "execution_count": 61,
   "metadata": {},
   "outputs": [
    {
     "data": {
      "text/html": [
       "<div>\n",
       "<style scoped>\n",
       "    .dataframe tbody tr th:only-of-type {\n",
       "        vertical-align: middle;\n",
       "    }\n",
       "\n",
       "    .dataframe tbody tr th {\n",
       "        vertical-align: top;\n",
       "    }\n",
       "\n",
       "    .dataframe thead th {\n",
       "        text-align: right;\n",
       "    }\n",
       "</style>\n",
       "<table border=\"1\" class=\"dataframe\">\n",
       "  <thead>\n",
       "    <tr style=\"text-align: right;\">\n",
       "      <th></th>\n",
       "      <th>article_number</th>\n",
       "      <th>article_words</th>\n",
       "      <th>topic</th>\n",
       "    </tr>\n",
       "  </thead>\n",
       "  <tbody>\n",
       "    <tr>\n",
       "      <th>0</th>\n",
       "      <td>1</td>\n",
       "      <td>open,absent,cent,cent,cent,stock,inflow,rate,k...</td>\n",
       "      <td>FOREX MARKETS</td>\n",
       "    </tr>\n",
       "    <tr>\n",
       "      <th>1</th>\n",
       "      <td>2</td>\n",
       "      <td>morn,stead,end,end,day,day,day,patch,patch,pat...</td>\n",
       "      <td>MONEY MARKETS</td>\n",
       "    </tr>\n",
       "    <tr>\n",
       "      <th>2</th>\n",
       "      <td>3</td>\n",
       "      <td>socc,socc,world,world,recent,law,fifa,fifa,fif...</td>\n",
       "      <td>SPORTS</td>\n",
       "    </tr>\n",
       "    <tr>\n",
       "      <th>3</th>\n",
       "      <td>4</td>\n",
       "      <td>open,forint,forint,forint,forint,cent,cent,ste...</td>\n",
       "      <td>FOREX MARKETS</td>\n",
       "    </tr>\n",
       "    <tr>\n",
       "      <th>4</th>\n",
       "      <td>5</td>\n",
       "      <td>morn,complet,weekend,minut,minut,minut,arrow,d...</td>\n",
       "      <td>IRRELEVANT</td>\n",
       "    </tr>\n",
       "  </tbody>\n",
       "</table>\n",
       "</div>"
      ],
      "text/plain": [
       "   article_number                                      article_words  \\\n",
       "0               1  open,absent,cent,cent,cent,stock,inflow,rate,k...   \n",
       "1               2  morn,stead,end,end,day,day,day,patch,patch,pat...   \n",
       "2               3  socc,socc,world,world,recent,law,fifa,fifa,fif...   \n",
       "3               4  open,forint,forint,forint,forint,cent,cent,ste...   \n",
       "4               5  morn,complet,weekend,minut,minut,minut,arrow,d...   \n",
       "\n",
       "           topic  \n",
       "0  FOREX MARKETS  \n",
       "1  MONEY MARKETS  \n",
       "2         SPORTS  \n",
       "3  FOREX MARKETS  \n",
       "4     IRRELEVANT  "
      ]
     },
     "execution_count": 61,
     "metadata": {},
     "output_type": "execute_result"
    }
   ],
   "source": [
    "df = pd.read_csv('training.csv',sep=',')\n",
    "df.head()"
   ]
  },
  {
   "cell_type": "code",
   "execution_count": 62,
   "metadata": {},
   "outputs": [],
   "source": [
    "words_abs_freq = df.article_words.str.split(',',expand=True).stack().value_counts()"
   ]
  },
  {
   "cell_type": "code",
   "execution_count": 63,
   "metadata": {},
   "outputs": [],
   "source": [
    "words_abs_freq_df = words_abs_freq.to_frame('count')"
   ]
  },
  {
   "cell_type": "code",
   "execution_count": 64,
   "metadata": {},
   "outputs": [
    {
     "data": {
      "text/plain": [
       "1       13308\n",
       "2        5402\n",
       "3        2864\n",
       "4        1927\n",
       "5        1311\n",
       "        ...  \n",
       "881         1\n",
       "945         1\n",
       "1201        1\n",
       "1297        1\n",
       "1823        1\n",
       "Name: count, Length: 860, dtype: int64"
      ]
     },
     "execution_count": 64,
     "metadata": {},
     "output_type": "execute_result"
    }
   ],
   "source": [
    "words_abs_freq_df['count'].value_counts()"
   ]
  },
  {
   "cell_type": "code",
   "execution_count": 65,
   "metadata": {},
   "outputs": [
    {
     "data": {
      "text/html": [
       "<div>\n",
       "<style scoped>\n",
       "    .dataframe tbody tr th:only-of-type {\n",
       "        vertical-align: middle;\n",
       "    }\n",
       "\n",
       "    .dataframe tbody tr th {\n",
       "        vertical-align: top;\n",
       "    }\n",
       "\n",
       "    .dataframe thead th {\n",
       "        text-align: right;\n",
       "    }\n",
       "</style>\n",
       "<table border=\"1\" class=\"dataframe\">\n",
       "  <thead>\n",
       "    <tr style=\"text-align: right;\">\n",
       "      <th></th>\n",
       "      <th>count</th>\n",
       "    </tr>\n",
       "  </thead>\n",
       "  <tbody>\n",
       "    <tr>\n",
       "      <th>centistok</th>\n",
       "      <td>1</td>\n",
       "    </tr>\n",
       "    <tr>\n",
       "      <th>primary278</th>\n",
       "      <td>1</td>\n",
       "    </tr>\n",
       "    <tr>\n",
       "      <th>canvad</th>\n",
       "      <td>1</td>\n",
       "    </tr>\n",
       "    <tr>\n",
       "      <th>multipurpos</th>\n",
       "      <td>1</td>\n",
       "    </tr>\n",
       "    <tr>\n",
       "      <th>gunrun</th>\n",
       "      <td>1</td>\n",
       "    </tr>\n",
       "    <tr>\n",
       "      <th>...</th>\n",
       "      <td>...</td>\n",
       "    </tr>\n",
       "    <tr>\n",
       "      <th>delmark</th>\n",
       "      <td>1</td>\n",
       "    </tr>\n",
       "    <tr>\n",
       "      <th>cherkaoui</th>\n",
       "      <td>1</td>\n",
       "    </tr>\n",
       "    <tr>\n",
       "      <th>pluspetrol</th>\n",
       "      <td>1</td>\n",
       "    </tr>\n",
       "    <tr>\n",
       "      <th>popularn</th>\n",
       "      <td>1</td>\n",
       "    </tr>\n",
       "    <tr>\n",
       "      <th>branford</th>\n",
       "      <td>1</td>\n",
       "    </tr>\n",
       "  </tbody>\n",
       "</table>\n",
       "<p>400 rows × 1 columns</p>\n",
       "</div>"
      ],
      "text/plain": [
       "             count\n",
       "centistok        1\n",
       "primary278       1\n",
       "canvad           1\n",
       "multipurpos      1\n",
       "gunrun           1\n",
       "...            ...\n",
       "delmark          1\n",
       "cherkaoui        1\n",
       "pluspetrol       1\n",
       "popularn         1\n",
       "branford         1\n",
       "\n",
       "[400 rows x 1 columns]"
      ]
     },
     "execution_count": 65,
     "metadata": {},
     "output_type": "execute_result"
    }
   ],
   "source": [
    "words_abs_freq_df.tail(400)"
   ]
  },
  {
   "cell_type": "code",
   "execution_count": 66,
   "metadata": {},
   "outputs": [],
   "source": [
    "train_df = pd.read_csv('training.csv').set_index('article_number')\n",
    "test_df = pd.read_csv('test.csv').set_index('article_number')"
   ]
  },
  {
   "cell_type": "code",
   "execution_count": 67,
   "metadata": {},
   "outputs": [],
   "source": [
    "def MyTokenizer(words):\n",
    "    return [word for word in words.split(',') if word.isalpha() and not bool(re.match(r'(\\w)(\\1{2,})',word)) and len(word) > 3]"
   ]
  },
  {
   "cell_type": "code",
   "execution_count": 68,
   "metadata": {},
   "outputs": [],
   "source": [
    "le = LabelEncoder()\n",
    "vectorizer = TfidfVectorizer(strip_accents='ascii',\n",
    "                             tokenizer=MyTokenizer,\n",
    "                             stop_words='english',\n",
    "                             analyzer='word',\n",
    "                             min_df=1,\n",
    "                             max_df=1000,\n",
    "                             max_features=5000,\n",
    "                             ngram_range=(1,2))\n",
    "x_train = vectorizer.fit_transform(train_df.iloc[:,0])\n",
    "y_train = le.fit_transform(train_df.iloc[:,1])\n",
    "x_test = vectorizer.transform(test_df.iloc[:,0])\n",
    "y_test = le.transform(test_df.iloc[:,1])"
   ]
  },
  {
   "cell_type": "code",
   "execution_count": 69,
   "metadata": {},
   "outputs": [],
   "source": [
    "sam = RandomOverSampler(sampling_strategy='all')\n",
    "x_train,y_train = sam.fit_resample(x_train,y_train)"
   ]
  },
  {
   "cell_type": "code",
   "execution_count": 70,
   "metadata": {},
   "outputs": [
    {
     "data": {
      "text/plain": [
       "(52074, 5000)"
      ]
     },
     "execution_count": 70,
     "metadata": {},
     "output_type": "execute_result"
    }
   ],
   "source": [
    "x_train.shape"
   ]
  },
  {
   "cell_type": "code",
   "execution_count": 71,
   "metadata": {},
   "outputs": [],
   "source": [
    "# k_best = SelectKBest(chi2, k=25000)\n",
    "# x_train = k_best.fit_transform(x_train,y_train)\n",
    "# x_test = k_best.transform(x_test)"
   ]
  },
  {
   "cell_type": "code",
   "execution_count": 72,
   "metadata": {},
   "outputs": [
    {
     "data": {
      "text/plain": [
       "(52074, 5000)"
      ]
     },
     "execution_count": 72,
     "metadata": {},
     "output_type": "execute_result"
    }
   ],
   "source": [
    "x_train.shape"
   ]
  },
  {
   "cell_type": "code",
   "execution_count": 73,
   "metadata": {},
   "outputs": [
    {
     "name": "stdout",
     "output_type": "stream",
     "text": [
      "                                  precision    recall  f1-score   support\n",
      "\n",
      "      ARTS CULTURE ENTERTAINMENT       0.20      0.67      0.31         3\n",
      "BIOGRAPHIES PERSONALITIES PEOPLE       0.48      0.67      0.56        15\n",
      "                         DEFENCE       0.60      0.92      0.73        13\n",
      "                DOMESTIC MARKETS       0.15      1.00      0.27         2\n",
      "                   FOREX MARKETS       0.52      0.81      0.63        48\n",
      "                          HEALTH       0.61      0.79      0.69        14\n",
      "                      IRRELEVANT       0.96      0.69      0.80       266\n",
      "                   MONEY MARKETS       0.57      0.59      0.58        69\n",
      "          SCIENCE AND TECHNOLOGY       0.25      0.33      0.29         3\n",
      "                  SHARE LISTINGS       0.43      0.86      0.57         7\n",
      "                          SPORTS       0.95      0.97      0.96        60\n",
      "\n",
      "                        accuracy                           0.73       500\n",
      "                       macro avg       0.52      0.75      0.58       500\n",
      "                    weighted avg       0.81      0.73      0.75       500\n",
      "\n"
     ]
    }
   ],
   "source": [
    "sgd = SGDClassifier(loss='log', n_jobs=-1)\n",
    "sgd.fit(x_train,y_train)\n",
    "y_pred = sgd.predict(x_test)\n",
    "print(classification_report(y_test, y_pred, target_names=list(le.classes_)))"
   ]
  },
  {
   "cell_type": "code",
   "execution_count": 74,
   "metadata": {},
   "outputs": [
    {
     "name": "stdout",
     "output_type": "stream",
     "text": [
      "Fitting estimator with 5000 features.\n",
      "Fitting estimator with 4900 features.\n",
      "Fitting estimator with 4800 features.\n"
     ]
    },
    {
     "data": {
      "text/plain": [
       "RFECV(cv=StratifiedKFold(n_splits=2, random_state=None, shuffle=False),\n",
       "      estimator=SGDClassifier(alpha=0.0001, average=False, class_weight=None,\n",
       "                              early_stopping=False, epsilon=0.1, eta0=0.0,\n",
       "                              fit_intercept=True, l1_ratio=0.15,\n",
       "                              learning_rate='optimal', loss='log',\n",
       "                              max_iter=1000, n_iter_no_change=5, n_jobs=-1,\n",
       "                              penalty='l2', power_t=0.5, random_state=None,\n",
       "                              shuffle=True, tol=0.001, validation_fraction=0.1,\n",
       "                              verbose=0, warm_start=False),\n",
       "      min_features_to_select=1, n_jobs=-1, scoring='accuracy', step=100,\n",
       "      verbose=5)"
      ]
     },
     "execution_count": 74,
     "metadata": {},
     "output_type": "execute_result"
    }
   ],
   "source": [
    "rfecv = RFECV(estimator=sgd, step=100, cv=StratifiedKFold(2),\n",
    "              scoring='accuracy', n_jobs=-1, verbose=5)\n",
    "rfecv.fit(x_train, y_train)"
   ]
  },
  {
   "cell_type": "code",
   "execution_count": 75,
   "metadata": {},
   "outputs": [
    {
     "name": "stdout",
     "output_type": "stream",
     "text": [
      "Optimal number of features : 4700\n"
     ]
    },
    {
     "data": {
      "image/png": "[encoded data removed]",
      "text/plain": [
       "<Figure size 432x288 with 1 Axes>"
      ]
     },
     "metadata": {},
     "output_type": "display_data"
    }
   ],
   "source": [
    "print(\"Optimal number of features : %d\" % rfecv.n_features_)\n",
    "\n",
    "# Plot number of features VS. cross-validation scores\n",
    "plt.figure()\n",
    "plt.xlabel(\"Number of features selected\")\n",
    "plt.ylabel(\"Cross validation score (nb of correct classifications)\")\n",
    "plt.plot(range(1, len(rfecv.grid_scores_) + 1), rfecv.grid_scores_)\n",
    "plt.show()"
   ]
  },
  {
   "cell_type": "code",
   "execution_count": 76,
   "metadata": {},
   "outputs": [
    {
     "data": {
      "text/plain": [
       "array([ True,  True,  True, ...,  True,  True,  True])"
      ]
     },
     "execution_count": 76,
     "metadata": {},
     "output_type": "execute_result"
    }
   ],
   "source": [
    "rfecv.support_"
   ]
  },
  {
   "cell_type": "code",
   "execution_count": 77,
   "metadata": {},
   "outputs": [
    {
     "data": {
      "text/plain": [
       "(52074, 4700)"
      ]
     },
     "execution_count": 77,
     "metadata": {},
     "output_type": "execute_result"
    }
   ],
   "source": [
    "x_train_masked = x_train[:,rfecv.support_]\n",
    "x_train_masked.shape"
   ]
  },
  {
   "cell_type": "code",
   "execution_count": 78,
   "metadata": {},
   "outputs": [
    {
     "name": "stdout",
     "output_type": "stream",
     "text": [
      "                                  precision    recall  f1-score   support\n",
      "\n",
      "      ARTS CULTURE ENTERTAINMENT       0.20      0.67      0.31         3\n",
      "BIOGRAPHIES PERSONALITIES PEOPLE       0.48      0.67      0.56        15\n",
      "                         DEFENCE       0.60      0.92      0.73        13\n",
      "                DOMESTIC MARKETS       0.15      1.00      0.27         2\n",
      "                   FOREX MARKETS       0.52      0.81      0.63        48\n",
      "                          HEALTH       0.61      0.79      0.69        14\n",
      "                      IRRELEVANT       0.96      0.69      0.80       266\n",
      "                   MONEY MARKETS       0.57      0.59      0.58        69\n",
      "          SCIENCE AND TECHNOLOGY       0.25      0.33      0.29         3\n",
      "                  SHARE LISTINGS       0.43      0.86      0.57         7\n",
      "                          SPORTS       0.95      0.97      0.96        60\n",
      "\n",
      "                        accuracy                           0.73       500\n",
      "                       macro avg       0.52      0.75      0.58       500\n",
      "                    weighted avg       0.81      0.73      0.75       500\n",
      "\n"
     ]
    }
   ],
   "source": [
    "sgd = SGDClassifier(loss='log', n_jobs=-1)\n",
    "sgd.fit(x_train_masked,y_train)\n",
    "y_pred = sgd.predict(x_test[:,rfecv.support_])\n",
    "print(classification_report(y_test, y_pred, target_names=list(le.classes_)))"
   ]
  },
  {
   "cell_type": "code",
   "execution_count": 79,
   "metadata": {},
   "outputs": [
    {
     "data": {
      "text/plain": [
       "array([0.16862542, 0.73745055, 0.7990936 , 0.82682337, 0.84285824,\n",
       "       0.85760648, 0.86837961, 0.87204747, 0.8772324 , 0.88410723,\n",
       "       0.88858163, 0.89276798, 0.89407382, 0.8962246 , 0.89797212,\n",
       "       0.89946999, 0.90110228, 0.90215847, 0.9023505 , 0.9040404 ,\n",
       "       0.90601836, 0.90582632, 0.90709375, 0.90720897, 0.90841879,\n",
       "       0.90803472, 0.90941737, 0.90920613, 0.90930215, 0.90991666,\n",
       "       0.90962861, 0.91101125, 0.91066559, 0.9118562 , 0.91208665,\n",
       "       0.91197143, 0.91281638, 0.9135077 , 0.91310443, 0.91391097,\n",
       "       0.91423743, 0.91375735, 0.91435265, 0.91416062, 0.91483274,\n",
       "       0.9146407 , 0.91508238, 0.91542804, 0.9146407 , 0.9151592 ,\n",
       "       0.91502477])"
      ]
     },
     "execution_count": 79,
     "metadata": {},
     "output_type": "execute_result"
    }
   ],
   "source": [
    "rfecv.grid_scores_"
   ]
  },
  {
   "cell_type": "code",
   "execution_count": 80,
   "metadata": {},
   "outputs": [
    {
     "name": "stdout",
     "output_type": "stream",
     "text": [
      "                                  precision    recall  f1-score   support\n",
      "\n",
      "      ARTS CULTURE ENTERTAINMENT       0.20      0.67      0.31         3\n",
      "BIOGRAPHIES PERSONALITIES PEOPLE       0.48      0.67      0.56        15\n",
      "                         DEFENCE       0.60      0.92      0.73        13\n",
      "                DOMESTIC MARKETS       0.15      1.00      0.27         2\n",
      "                   FOREX MARKETS       0.52      0.81      0.63        48\n",
      "                          HEALTH       0.61      0.79      0.69        14\n",
      "                      IRRELEVANT       0.96      0.69      0.80       266\n",
      "                   MONEY MARKETS       0.57      0.59      0.58        69\n",
      "          SCIENCE AND TECHNOLOGY       0.25      0.33      0.29         3\n",
      "                  SHARE LISTINGS       0.43      0.86      0.57         7\n",
      "                          SPORTS       0.95      0.97      0.96        60\n",
      "\n",
      "                        accuracy                           0.73       500\n",
      "                       macro avg       0.52      0.75      0.58       500\n",
      "                    weighted avg       0.81      0.73      0.75       500\n",
      "\n"
     ]
    }
   ],
   "source": [
    "rfecv.estimator_.predict(x_test[:,rfecv.support_])\n",
    "print(classification_report(y_test, y_pred, target_names=list(le.classes_)))"
   ]
  },
  {
   "cell_type": "code",
   "execution_count": 81,
   "metadata": {},
   "outputs": [],
   "source": [
    "xgb = XGBClassifier(base_score=0.5, booster=None, colsample_bylevel=1,\n",
    "              colsample_bynode=1, colsample_bytree=0.7, gamma=0, gpu_id=-1,\n",
    "              importance_type='gain', interaction_constraints=None,\n",
    "              learning_rate=0.2, max_delta_step=0, max_depth=10,\n",
    "              min_child_weight=13, missing=np.nan, monotone_constraints=None,\n",
    "              n_estimators=15, n_jobs=2, num_parallel_tree=1,\n",
    "              objective='multi:softprob', random_state=1337, reg_alpha=0,\n",
    "              reg_lambda=1, scale_pos_weight=None, silent=1, subsample=0.8,\n",
    "              tree_method=None, validate_parameters=False, verbosity=None)"
   ]
  },
  {
   "cell_type": "code",
   "execution_count": 82,
   "metadata": {},
   "outputs": [
    {
     "name": "stdout",
     "output_type": "stream",
     "text": [
      "                                  precision    recall  f1-score   support\n",
      "\n",
      "      ARTS CULTURE ENTERTAINMENT       0.33      0.67      0.44         3\n",
      "BIOGRAPHIES PERSONALITIES PEOPLE       0.57      0.53      0.55        15\n",
      "                         DEFENCE       0.48      0.92      0.63        13\n",
      "                DOMESTIC MARKETS       0.14      1.00      0.25         2\n",
      "                   FOREX MARKETS       0.44      0.58      0.50        48\n",
      "                          HEALTH       0.61      0.79      0.69        14\n",
      "                      IRRELEVANT       0.90      0.67      0.77       266\n",
      "                   MONEY MARKETS       0.51      0.55      0.53        69\n",
      "          SCIENCE AND TECHNOLOGY       0.00      0.00      0.00         3\n",
      "                  SHARE LISTINGS       0.38      0.86      0.52         7\n",
      "                          SPORTS       0.88      1.00      0.94        60\n",
      "\n",
      "                        accuracy                           0.69       500\n",
      "                       macro avg       0.48      0.69      0.53       500\n",
      "                    weighted avg       0.75      0.69      0.71       500\n",
      "\n"
     ]
    }
   ],
   "source": [
    "xgb.fit(x_train,y_train)\n",
    "y_pred = xgb.predict(x_test)\n",
    "print(classification_report(y_test, y_pred, target_names=list(le.classes_)))"
   ]
  },
  {
   "cell_type": "code",
   "execution_count": 84,
   "metadata": {},
   "outputs": [
    {
     "data": {
      "text/plain": [
       "(500, 11)"
      ]
     },
     "execution_count": 84,
     "metadata": {},
     "output_type": "execute_result"
    }
   ],
   "source": [
    "x_test_proba = sgd.predict_proba(x_test[:,rfecv.support_])\n",
    "x_test_proba.shape"
   ]
  },
  {
   "cell_type": "code",
   "execution_count": 85,
   "metadata": {},
   "outputs": [
    {
     "data": {
      "text/plain": [
       "array([0.09721892, 0.02390807, 0.07663269, 0.2029402 , 0.03153802,\n",
       "       0.01752974, 0.3110601 , 0.02286002, 0.01356222, 0.17972973,\n",
       "       0.0230203 ])"
      ]
     },
     "execution_count": 85,
     "metadata": {},
     "output_type": "execute_result"
    }
   ],
   "source": [
    "x_test_proba[0]"
   ]
  },
  {
   "cell_type": "code",
   "execution_count": 86,
   "metadata": {},
   "outputs": [
    {
     "data": {
      "text/plain": [
       "1.0"
      ]
     },
     "execution_count": 86,
     "metadata": {},
     "output_type": "execute_result"
    }
   ],
   "source": [
    "sum(x_test_proba[0])"
   ]
  },
  {
   "cell_type": "code",
   "execution_count": 99,
   "metadata": {},
   "outputs": [],
   "source": [
    "le = LabelEncoder()\n",
    "vectorizer = TfidfVectorizer(strip_accents='ascii',\n",
    "                             tokenizer=MyTokenizer,\n",
    "                             stop_words='english',\n",
    "                             analyzer='word',\n",
    "                             ngram_range=(1,2))\n",
    "x_train = vectorizer.fit_transform(train_df.iloc[:,0])\n",
    "y_train = le.fit_transform(train_df.iloc[:,1])\n",
    "x_test = vectorizer.transform(test_df.iloc[:,0])\n",
    "y_test = le.transform(test_df.iloc[:,1])"
   ]
  },
  {
   "cell_type": "code",
   "execution_count": 100,
   "metadata": {},
   "outputs": [
    {
     "name": "stdout",
     "output_type": "stream",
     "text": [
      "                                  precision    recall  f1-score   support\n",
      "\n",
      "      ARTS CULTURE ENTERTAINMENT       0.00      0.00      0.00         3\n",
      "BIOGRAPHIES PERSONALITIES PEOPLE       0.00      0.00      0.00        15\n",
      "                         DEFENCE       0.00      0.00      0.00        13\n",
      "                DOMESTIC MARKETS       0.00      0.00      0.00         2\n",
      "                   FOREX MARKETS       0.00      0.00      0.00        48\n",
      "                          HEALTH       0.00      0.00      0.00        14\n",
      "                      IRRELEVANT       0.62      0.98      0.76       266\n",
      "                   MONEY MARKETS       0.50      0.33      0.40        69\n",
      "          SCIENCE AND TECHNOLOGY       0.00      0.00      0.00         3\n",
      "                  SHARE LISTINGS       0.00      0.00      0.00         7\n",
      "                          SPORTS       0.91      0.52      0.66        60\n",
      "\n",
      "                        accuracy                           0.63       500\n",
      "                       macro avg       0.18      0.17      0.17       500\n",
      "                    weighted avg       0.51      0.63      0.54       500\n",
      "\n"
     ]
    }
   ],
   "source": [
    "from sklearn.naive_bayes import BernoulliNB, MultinomialNB\n",
    "clf = MultinomialNB()\n",
    "clf.fit(x_train,y_train)\n",
    "y_pred = clf.predict(x_test)\n",
    "print(classification_report(y_test, y_pred, target_names=list(le.classes_)))"
   ]
  },
  {
   "cell_type": "code",
   "execution_count": 101,
   "metadata": {},
   "outputs": [
    {
     "name": "stdout",
     "output_type": "stream",
     "text": [
      "                                  precision    recall  f1-score   support\n",
      "\n",
      "      ARTS CULTURE ENTERTAINMENT       0.00      0.00      0.00         3\n",
      "BIOGRAPHIES PERSONALITIES PEOPLE       0.00      0.00      0.00        15\n",
      "                         DEFENCE       1.00      0.38      0.56        13\n",
      "                DOMESTIC MARKETS       1.00      0.50      0.67         2\n",
      "                   FOREX MARKETS       0.48      0.29      0.36        48\n",
      "                          HEALTH       0.50      0.07      0.12        14\n",
      "                      IRRELEVANT       0.78      0.94      0.85       266\n",
      "                   MONEY MARKETS       0.54      0.64      0.59        69\n",
      "          SCIENCE AND TECHNOLOGY       0.00      0.00      0.00         3\n",
      "                  SHARE LISTINGS       1.00      0.14      0.25         7\n",
      "                          SPORTS       0.93      0.95      0.94        60\n",
      "\n",
      "                        accuracy                           0.75       500\n",
      "                       macro avg       0.57      0.36      0.39       500\n",
      "                    weighted avg       0.71      0.75      0.71       500\n",
      "\n"
     ]
    }
   ],
   "source": [
    "sgd = SGDClassifier(loss='log', n_jobs=-1)\n",
    "sgd.fit(x_train,y_train)\n",
    "y_pred = sgd.predict(x_test)\n",
    "print(classification_report(y_test, y_pred, target_names=list(le.classes_)))"
   ]
  },
  {
   "cell_type": "code",
   "execution_count": null,
   "metadata": {},
   "outputs": [],
   "source": []
  }
 ],
 "metadata": {
  "kernelspec": {
   "display_name": "Python 3",
   "language": "python",
   "name": "python3"
  },
  "language_info": {
   "codemirror_mode": {
    "name": "ipython",
    "version": 3
   },
   "file_extension": ".py",
   "mimetype": "text/x-python",
   "name": "python",
   "nbconvert_exporter": "python",
   "pygments_lexer": "ipython3",
   "version": "3.7.7"
  }
 },
 "nbformat": 4,
 "nbformat_minor": 4
}
