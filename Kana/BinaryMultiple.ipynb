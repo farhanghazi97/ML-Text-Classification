{
 "cells": [
  {
   "cell_type": "code",
   "execution_count": 22,
   "metadata": {
    "colab": {
     "base_uri": "https://localhost:8080/",
     "height": 53
    },
    "colab_type": "code",
    "id": "j6zpJEqk9UXC",
    "outputId": "bcae9c15-f2fa-4c02-f5fe-b83c09031252"
   },
   "outputs": [],
   "source": [
    "import pandas as pd\n",
    "import matplotlib.pyplot as plt\n",
    "import pickle\n",
    "import seaborn as sns\n",
    "sns.set()\n",
    "# Code for hiding seaborn warnings\n",
    "import warnings\n",
    "warnings.filterwarnings(\"ignore\")\n",
    "\n",
    "from sklearn.ensemble import (RandomForestClassifier, AdaBoostClassifier, \n",
    "                              GradientBoostingClassifier, ExtraTreesClassifier)\n",
    "from sklearn.svm import SVC\n",
    "from sklearn.model_selection import KFold, RepeatedStratifiedKFold, cross_val_score\n",
    "from sklearn.feature_extraction.text import TfidfVectorizer\n",
    "from sklearn.preprocessing import LabelEncoder\n",
    "from sklearn.metrics import classification_report, accuracy_score\n",
    "from xgboost import XGBClassifier\n",
    "from sklearn.linear_model import SGDClassifier\n",
    "from sklearn import preprocessing\n",
    "from sklearn.model_selection import GridSearchCV\n",
    "from imblearn.pipeline import Pipeline\n",
    "from imblearn.over_sampling import SMOTE"
   ]
  },
  {
   "cell_type": "code",
   "execution_count": 5,
   "metadata": {
    "colab": {},
    "colab_type": "code",
    "id": "yg7MyNT_-6dU"
   },
   "outputs": [],
   "source": [
    "colab = False\n",
    "if colab:\n",
    "  train_df = pd.read_csv('/content/drive/My Drive/Colab Notebooks/training.csv').set_index('article_number')\n",
    "  test_df = pd.read_csv('/content/drive/My Drive/Colab Notebooks/test.csv').set_index('article_number')\n",
    "else:\n",
    "  train_df = pd.read_csv('training.csv').set_index('article_number')\n",
    "  test_df = pd.read_csv('test.csv').set_index('article_number')"
   ]
  },
  {
   "cell_type": "code",
   "execution_count": 6,
   "metadata": {
    "colab": {},
    "colab_type": "code",
    "id": "JfYRqcfp_GBq"
   },
   "outputs": [],
   "source": [
    "train_df['words_count'] = train_df['article_words'].str.split(',').str.len()\n",
    "train_df = train_df[train_df['words_count'] < train_df['words_count'].quantile(0.95)]"
   ]
  },
  {
   "cell_type": "code",
   "execution_count": 7,
   "metadata": {
    "colab": {
     "base_uri": "https://localhost:8080/",
     "height": 35
    },
    "colab_type": "code",
    "id": "Kz0JS3bXBYVN",
    "outputId": "78f27aeb-c28b-44d6-8760-698f787dcbd3"
   },
   "outputs": [
    {
     "name": "stdout",
     "output_type": "stream",
     "text": [
      "['ARTS CULTURE ENTERTAINMENT', 'BIOGRAPHIES PERSONALITIES PEOPLE', 'DEFENCE', 'DOMESTIC MARKETS', 'FOREX MARKETS', 'HEALTH', 'IRRELEVANT', 'MONEY MARKETS', 'SCIENCE AND TECHNOLOGY', 'SHARE LISTINGS', 'SPORTS']\n"
     ]
    }
   ],
   "source": [
    "vectorizer = TfidfVectorizer(strip_accents='ascii')\n",
    "le = LabelEncoder()\n",
    "x_train = vectorizer.fit_transform(train_df.iloc[:,0])\n",
    "y_train = le.fit_transform(train_df.iloc[:,1])\n",
    "x_test = vectorizer.transform(test_df.iloc[:,0])\n",
    "y_test = le.transform(test_df.iloc[:,1])\n",
    "print(list(le.classes_))"
   ]
  },
  {
   "cell_type": "code",
   "execution_count": 8,
   "metadata": {
    "colab": {},
    "colab_type": "code",
    "id": "bmfwT-rzCuBM"
   },
   "outputs": [],
   "source": [
    "gbm = XGBClassifier().fit(x_train, y_train)\n",
    "y_pred = gbm.predict(x_test)\n",
    "print(classification_report(y_test, y_pred, target_names=list(le.classes_)))"
   ]
  },
  {
   "cell_type": "code",
   "execution_count": 10,
   "metadata": {
    "colab": {
     "base_uri": "https://localhost:8080/",
     "height": 341
    },
    "colab_type": "code",
    "id": "SQTLThCuDBCi",
    "outputId": "967e8a6a-be9f-4abd-8372-a56add8a58d6"
   },
   "outputs": [
    {
     "name": "stdout",
     "output_type": "stream",
     "text": [
      "                                  precision    recall  f1-score   support\n",
      "\n",
      "      ARTS CULTURE ENTERTAINMENT       0.33      0.67      0.44         3\n",
      "BIOGRAPHIES PERSONALITIES PEOPLE       1.00      0.20      0.33        15\n",
      "                         DEFENCE       0.89      0.62      0.73        13\n",
      "                DOMESTIC MARKETS       1.00      0.50      0.67         2\n",
      "                   FOREX MARKETS       0.41      0.25      0.31        48\n",
      "                          HEALTH       0.75      0.64      0.69        14\n",
      "                      IRRELEVANT       0.86      0.90      0.88       266\n",
      "                   MONEY MARKETS       0.52      0.70      0.60        69\n",
      "          SCIENCE AND TECHNOLOGY       0.00      0.00      0.00         3\n",
      "                  SHARE LISTINGS       0.40      0.29      0.33         7\n",
      "                          SPORTS       0.95      0.97      0.96        60\n",
      "\n",
      "                        accuracy                           0.77       500\n",
      "                       macro avg       0.65      0.52      0.54       500\n",
      "                    weighted avg       0.77      0.77      0.75       500\n",
      "\n"
     ]
    }
   ],
   "source": [
    "sgd = SGDClassifier()\n",
    "sgd.fit(x_train,y_train)\n",
    "y_pred = sgd.predict(x_test)\n",
    "print(classification_report(y_test, y_pred, target_names=list(le.classes_)))"
   ]
  },
  {
   "cell_type": "code",
   "execution_count": 11,
   "metadata": {
    "colab": {},
    "colab_type": "code",
    "id": "bX8_pYWGE6Nc"
   },
   "outputs": [],
   "source": [
    "xgb_model = XGBClassifier()\n",
    "parameters = {\n",
    "              'objective':['binary:logistic'],\n",
    "              'learning_rate': [0.05, 0.1, 0.15, 0.2], #so called `eta` value\n",
    "              'max_depth': [6,7,8,9,10],\n",
    "              'min_child_weight': [11,12,13,15],\n",
    "              'silent': [1],\n",
    "              'subsample': [0.8],\n",
    "              'colsample_bytree': [0.7],\n",
    "              'n_estimators': [5,10,15], #number of trees, change it to 1000 for better results\n",
    "              'random_state': [1337],\n",
    "              'n_jobs': [2]\n",
    "              }"
   ]
  },
  {
   "cell_type": "code",
   "execution_count": 12,
   "metadata": {
    "colab": {
     "base_uri": "https://localhost:8080/",
     "height": 71
    },
    "colab_type": "code",
    "id": "AsMldyVEG-C6",
    "outputId": "fdb0a207-e0fd-4417-dbde-ff08f920b746"
   },
   "outputs": [
    {
     "name": "stdout",
     "output_type": "stream",
     "text": [
      "Fitting 5 folds for each of 240 candidates, totalling 1200 fits\n"
     ]
    },
    {
     "name": "stderr",
     "output_type": "stream",
     "text": [
      "[Parallel(n_jobs=-1)]: Using backend LokyBackend with 12 concurrent workers.\n",
      "[Parallel(n_jobs=-1)]: Done  48 tasks      | elapsed:  1.6min\n",
      "[Parallel(n_jobs=-1)]: Done 138 tasks      | elapsed:  4.4min\n",
      "[Parallel(n_jobs=-1)]: Done 264 tasks      | elapsed:  8.8min\n",
      "[Parallel(n_jobs=-1)]: Done 426 tasks      | elapsed: 13.7min\n",
      "[Parallel(n_jobs=-1)]: Done 624 tasks      | elapsed: 20.6min\n",
      "[Parallel(n_jobs=-1)]: Done 858 tasks      | elapsed: 27.9min\n",
      "[Parallel(n_jobs=-1)]: Done 1128 tasks      | elapsed: 36.2min\n",
      "[Parallel(n_jobs=-1)]: Done 1200 out of 1200 | elapsed: 38.6min finished\n"
     ]
    },
    {
     "data": {
      "text/plain": [
       "GridSearchCV(cv=5, error_score=nan,\n",
       "             estimator=XGBClassifier(base_score=None, booster=None,\n",
       "                                     colsample_bylevel=None,\n",
       "                                     colsample_bynode=None,\n",
       "                                     colsample_bytree=None, gamma=None,\n",
       "                                     gpu_id=None, importance_type='gain',\n",
       "                                     interaction_constraints=None,\n",
       "                                     learning_rate=None, max_delta_step=None,\n",
       "                                     max_depth=None, min_child_weight=None,\n",
       "                                     missing=nan, monotone_constraints=None,\n",
       "                                     n_estim...\n",
       "             iid='deprecated', n_jobs=-1,\n",
       "             param_grid={'colsample_bytree': [0.7],\n",
       "                         'learning_rate': [0.05, 0.1, 0.15, 0.2],\n",
       "                         'max_depth': [6, 7, 8, 9, 10],\n",
       "                         'min_child_weight': [11, 12, 13, 15],\n",
       "                         'n_estimators': [5, 10, 15], 'n_jobs': [2],\n",
       "                         'objective': ['binary:logistic'],\n",
       "                         'random_state': [1337], 'silent': [1],\n",
       "                         'subsample': [0.8]},\n",
       "             pre_dispatch='2*n_jobs', refit=True, return_train_score=False,\n",
       "             scoring='accuracy', verbose=5)"
      ]
     },
     "execution_count": 12,
     "metadata": {},
     "output_type": "execute_result"
    }
   ],
   "source": [
    "clf = GridSearchCV(xgb_model, parameters, n_jobs=-1, cv=5, \n",
    "                   scoring='accuracy',\n",
    "                   verbose=5, refit=True)\n",
    "clf.fit(x_train,y_train)"
   ]
  },
  {
   "cell_type": "code",
   "execution_count": 13,
   "metadata": {
    "colab": {},
    "colab_type": "code",
    "id": "U0Oo8VfkHIuR",
    "scrolled": true
   },
   "outputs": [
    {
     "data": {
      "text/plain": [
       "XGBClassifier(base_score=0.5, booster=None, colsample_bylevel=1,\n",
       "              colsample_bynode=1, colsample_bytree=0.7, gamma=0, gpu_id=-1,\n",
       "              importance_type='gain', interaction_constraints=None,\n",
       "              learning_rate=0.2, max_delta_step=0, max_depth=10,\n",
       "              min_child_weight=13, missing=nan, monotone_constraints=None,\n",
       "              n_estimators=15, n_jobs=2, num_parallel_tree=1,\n",
       "              objective='multi:softprob', random_state=1337, reg_alpha=0,\n",
       "              reg_lambda=1, scale_pos_weight=None, silent=1, subsample=0.8,\n",
       "              tree_method=None, validate_parameters=False, verbosity=None)"
      ]
     },
     "execution_count": 13,
     "metadata": {},
     "output_type": "execute_result"
    }
   ],
   "source": [
    "clf.best_estimator_"
   ]
  },
  {
   "cell_type": "code",
   "execution_count": 20,
   "metadata": {
    "colab": {},
    "colab_type": "code",
    "id": "YXhEcSHhHlDf"
   },
   "outputs": [
    {
     "name": "stdout",
     "output_type": "stream",
     "text": [
      "                                  precision    recall  f1-score   support\n",
      "\n",
      "      ARTS CULTURE ENTERTAINMENT       0.50      0.67      0.57         3\n",
      "BIOGRAPHIES PERSONALITIES PEOPLE       0.40      0.13      0.20        15\n",
      "                         DEFENCE       0.71      0.38      0.50        13\n",
      "                DOMESTIC MARKETS       0.50      0.50      0.50         2\n",
      "                   FOREX MARKETS       0.54      0.31      0.39        48\n",
      "                          HEALTH       0.70      0.50      0.58        14\n",
      "                      IRRELEVANT       0.84      0.89      0.86       266\n",
      "                   MONEY MARKETS       0.50      0.67      0.57        69\n",
      "          SCIENCE AND TECHNOLOGY       0.00      0.00      0.00         3\n",
      "                  SHARE LISTINGS       0.50      0.43      0.46         7\n",
      "                          SPORTS       0.92      0.98      0.95        60\n",
      "\n",
      "                        accuracy                           0.75       500\n",
      "                       macro avg       0.56      0.50      0.51       500\n",
      "                    weighted avg       0.74      0.75      0.74       500\n",
      "\n"
     ]
    }
   ],
   "source": [
    "gbm = XGBClassifier(base_score=0.5, booster=None, colsample_bylevel=1,\n",
    "              colsample_bynode=1, colsample_bytree=0.7, gamma=0, gpu_id=-1,\n",
    "              importance_type='gain', interaction_constraints=None,\n",
    "              learning_rate=0.2, max_delta_step=0, max_depth=10,\n",
    "              min_child_weight=13, monotone_constraints=None,\n",
    "              n_estimators=1000, num_parallel_tree=1,\n",
    "              objective='multi:softprob', random_state=1337, reg_alpha=0,\n",
    "              reg_lambda=1, scale_pos_weight=None, n_jobs=12, silent=1, subsample=0.8,\n",
    "              validate_parameters=False, verbosity=None).fit(x_train, y_train)\n",
    "y_pred = gbm.predict(x_test)\n",
    "print(classification_report(y_test, y_pred, target_names=list(le.classes_)))"
   ]
  },
  {
   "cell_type": "code",
   "execution_count": 23,
   "metadata": {},
   "outputs": [],
   "source": [
    "steps = [('over', SMOTE()), ('model', gbm)]\n",
    "pipeline = Pipeline(steps=steps)\n",
    "cv = RepeatedStratifiedKFold(n_splits=5, n_repeats=1, random_state=1)\n",
    "scores = cross_val_score(pipeline, x_train, y_train, scoring='accuracy', cv=cv, n_jobs=-1)"
   ]
  },
  {
   "cell_type": "code",
   "execution_count": null,
   "metadata": {},
   "outputs": [],
   "source": []
  }
 ],
 "metadata": {
  "colab": {
   "name": "BinaryMultiple.ipynb",
   "provenance": []
  },
  "kernelspec": {
   "display_name": "Python 3",
   "language": "python",
   "name": "python3"
  },
  "language_info": {
   "codemirror_mode": {
    "name": "ipython",
    "version": 3
   },
   "file_extension": ".py",
   "mimetype": "text/x-python",
   "name": "python",
   "nbconvert_exporter": "python",
   "pygments_lexer": "ipython3",
   "version": "3.7.7"
  }
 },
 "nbformat": 4,
 "nbformat_minor": 1
}
