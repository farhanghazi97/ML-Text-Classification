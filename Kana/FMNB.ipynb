{
 "cells": [
  {
   "cell_type": "code",
   "execution_count": 1,
   "metadata": {},
   "outputs": [
    {
     "name": "stdout",
     "output_type": "stream",
     "text": [
      "0.726\n",
      "                                  precision    recall  f1-score   support\n",
      "\n",
      "      ARTS CULTURE ENTERTAINMENT       0.40      0.67      0.50         3\n",
      "BIOGRAPHIES PERSONALITIES PEOPLE       0.88      0.47      0.61        15\n",
      "                         DEFENCE       0.57      0.62      0.59        13\n",
      "                DOMESTIC MARKETS       0.00      0.00      0.00         2\n",
      "                   FOREX MARKETS       0.43      0.31      0.36        48\n",
      "                          HEALTH       0.77      0.71      0.74        14\n",
      "                      IRRELEVANT       0.88      0.77      0.82       266\n",
      "                   MONEY MARKETS       0.43      0.80      0.56        69\n",
      "          SCIENCE AND TECHNOLOGY       0.00      0.00      0.00         3\n",
      "                  SHARE LISTINGS       0.50      0.14      0.22         7\n",
      "                          SPORTS       0.95      1.00      0.98        60\n",
      "\n",
      "                        accuracy                           0.73       500\n",
      "                       macro avg       0.53      0.50      0.49       500\n",
      "                    weighted avg       0.76      0.73      0.73       500\n",
      "\n"
     ]
    },
    {
     "name": "stderr",
     "output_type": "stream",
     "text": [
      "C:\\Users\\King\\Anaconda3\\lib\\site-packages\\sklearn\\metrics\\_classification.py:1272: UndefinedMetricWarning: Precision and F-score are ill-defined and being set to 0.0 in labels with no predicted samples. Use `zero_division` parameter to control this behavior.\n",
      "  _warn_prf(average, modifier, msg_start, len(result))\n"
     ]
    }
   ],
   "source": [
    "import sys\n",
    "import pandas as pd\n",
    "from sklearn.naive_bayes import BernoulliNB, MultinomialNB\n",
    "from sklearn.feature_extraction.text import CountVectorizer\n",
    "from sklearn.metrics import accuracy_score, precision_score, recall_score, f1_score, classification_report, plot_confusion_matrix\n",
    "\n",
    "train_data = pd.read_csv('training.csv')\n",
    "train_text_data = train_data['article_words'].to_numpy()\n",
    "\n",
    "test_data = pd.read_csv('test.csv')\n",
    "test_text_data = test_data['article_words'].to_numpy()\n",
    "\n",
    "# Create bag of words\n",
    "count = CountVectorizer(stop_words='english')\n",
    "bag_of_words = count.fit_transform(train_text_data)\n",
    "\n",
    "# Create feature matrix\n",
    "X_train = bag_of_words\n",
    "\n",
    "# Create target vector\n",
    "y_train = train_data['topic'].to_numpy()\n",
    "\n",
    "clf = MultinomialNB()\n",
    "model = clf.fit(X_train, y_train)\n",
    "\n",
    "#test1 = count.transform(['heavy,heavy,gabriel,morn,morn,equit,cent,cent,cent,recent,stock,stock,stock,deficit,diversif,measur,rate,rate,rate,businessm,weekend,borrow,dharmal,take,term,affect,issu,worry,day,day,day,emerg,yesterday,play,friday,draw,million,million,million,money,point,point,point,light,amount,sold,baht,baht,baht,coupl,hold,pull,pull,time,busi,record,invest,governor,turn,bank,bank,bank,bank,tempor,tempor,billion,thai,thai,thai,thai,thai,hap,york,rang,account,account,overheat,econom,month,parallel,finish,fear,fear,percent,percent,ricard,peso,peso,peso,peso,anal,pick,wednesday,wednesday,holiday,advant,turnov,thailand,told,manuel,report,dollar,dollar,dollar,driv,driv,thing,settl,gosec,protect,protect,volum,current,execut,deal,deal,manil,manil,buy,overnight,secur,secur,monet,market,market,market,market,market,market,market,specul,concern,ebb,high,propert,cris,fact,philippin,philippin,philippin,philippin,interest,interest,de,call,trad,trad,trad,bought,clos,lift,presid,add,sell,mix,mix,start,devalu,long,author,dying,key,mid,vice,newsroom,jose,activ,sect,garcia,currenc,advis,compar,compar,singson,singson,singson,thursday,shed,sent,stop,arbitr'])\n",
    "#test2 = count.transform(['world,world,nazarovi,medal,medal,end,braun,braun,braun,braun,point,point,point,heptathlon,heptathlon,race,athlet,strid,made,met,year,year,atlant,atlant,european,olymp,seventh,pass,finish,finish,finish,lead,lead,titl,titl,ahead,ahead,rival,disappoint,champ,champ,remig,recaptur,recaptur,bronz,bronz,denis,compet,german,monday,vict,lithuan,start,brit,total,sabin,lewi,lewi,lewi,lewi'])\n",
    "\n",
    "X_test = count.transform(test_text_data)\n",
    "y_test = test_data['topic'].to_numpy()\n",
    "\n",
    "predicted_y = model.predict(X_test)\n",
    "predicted_probabilities = model.predict_proba(X_test)\n",
    "\n",
    "print(accuracy_score(y_test , predicted_y))\n",
    "print(classification_report(y_test , predicted_y , zero_division='warn'))"
   ]
  },
  {
   "cell_type": "code",
   "execution_count": null,
   "metadata": {},
   "outputs": [],
   "source": []
  }
 ],
 "metadata": {
  "kernelspec": {
   "display_name": "Python 3",
   "language": "python",
   "name": "python3"
  },
  "language_info": {
   "codemirror_mode": {
    "name": "ipython",
    "version": 3
   },
   "file_extension": ".py",
   "mimetype": "text/x-python",
   "name": "python",
   "nbconvert_exporter": "python",
   "pygments_lexer": "ipython3",
   "version": "3.7.7"
  }
 },
 "nbformat": 4,
 "nbformat_minor": 4
}
